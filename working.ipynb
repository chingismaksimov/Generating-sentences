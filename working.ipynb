{
 "cells": [
  {
   "cell_type": "markdown",
   "metadata": {},
   "source": [
    "This is an introductory post about genetic algorithms (GAs) (https://en.wikipedia.org/wiki/Genetic_algorithm), which are a suite of methods of solving optimization problems. GAs form a subset of more general evolutionary algorithms (https://en.wikipedia.org/wiki/Evolutionary_algorithm). As the name implies, these algorithms are based on evolution-inspired methods, like mutation, crossover, survival of the fittest, to achieve an optimal solution.\n",
    "\n",
    "So, how do genetic algorithms work? Generally speaking, GAs work by creating a *population* of possible solutions, called individuals or phenotypes, and letting them *evolve* until an optimal solution to a given problem has been obtained. As the first step, the algorithm starts off with the first generation of randomly created phenotypes, where each individual phenotype has a set of properties that can be easily altered. Think of these individual solutions as of sequences of DNA. At the end of each generation, each individual solution is being evaluated and gets assigned a fitness score. Now, using these scores, the next generation is created by means of crossover, i.e. when two *parent* solutions are taken and their *genes* are exchanged, and mutation - the process by which any given gene in the phenotype can be randomly changed. More fit solutions have higher chances of being picked for subsequent crossover and thus have a higher probability of passing on their genes to the next generation. This process repeats until the optimal solution is achieved. \n",
    "\n",
    "GAs provide a number of benefits over more traditional approaches to optimization problems, like conceptual simplicity, broad applicability, self-optimization. Furthermore, real-life problems usually suffer from nonlinear constraints and non-stationarity that make classical optimization techniques less effective. Fogel (1997) provides a very good overview of other benefits associated with GAs. Over the years, EAs and GAs have found applications in a variety of fields(https://en.wikipedia.org/wiki/List_of_genetic_algorithm_applications).\n",
    "\n",
    "We are going to demonstrate the main steps of genetic algorithms by making our Python program generate a prespecified string. In other words, given a target string of length *n*, we would like to use GA method to generate this target string by means of mutation, crossover and selection from a randomly generated initial population. This example, even though very simple, utilizes all the main components of GA algorithms. \n",
    "\n",
    "Let us start by importing the required libraries. "
   ]
  },
  {
   "cell_type": "code",
   "execution_count": 1,
   "metadata": {},
   "outputs": [],
   "source": [
    "import numpy as np\n",
    "import string"
   ]
  },
  {
   "cell_type": "markdown",
   "metadata": {},
   "source": [
    "We are going to use *String* library to get the lowercase letters of the Engish language alphabet. We use lowercase letters to minimize the space of possible solutions.\n",
    "\n",
    "The first function, *generate_string*, does exactly what it says - generates a random string of length *n* by randomly sampling with replacement from a given *pool*, a list of possible letters. "
   ]
  },
  {
   "cell_type": "code",
   "execution_count": 2,
   "metadata": {},
   "outputs": [],
   "source": [
    "def generate_string(n, pool):\n",
    "    x = ''\n",
    "    for i in range(n):\n",
    "        x += np.random.choice(pool)\n",
    "    return x"
   ]
  },
  {
   "cell_type": "markdown",
   "metadata": {},
   "source": [
    "For example, below we are creating a string that consists of 5 lowercase letters. "
   ]
  },
  {
   "cell_type": "code",
   "execution_count": 3,
   "metadata": {},
   "outputs": [
    {
     "data": {
      "text/plain": [
       "'hmnjc'"
      ]
     },
     "execution_count": 3,
     "metadata": {},
     "output_type": "execute_result"
    }
   ],
   "source": [
    "generate_string(5, list(string.ascii_lowercase))"
   ]
  },
  {
   "cell_type": "markdown",
   "metadata": {},
   "source": [
    "As we mentioned in the introduction of this post, a score or fitness evaluation function is important. For the purposes of this project, we define the following score function."
   ]
  },
  {
   "cell_type": "code",
   "execution_count": 4,
   "metadata": {},
   "outputs": [],
   "source": [
    "def score(x, target):\n",
    "    score = 0\n",
    "    assert len(x) == len(target), \"The strings are of different lengths\"\n",
    "    for i, j in zip(x, target):\n",
    "        if i == j:\n",
    "            score += 1\n",
    "    return score"
   ]
  },
  {
   "cell_type": "markdown",
   "metadata": {},
   "source": [
    "Basically, given some string *x* and another string *y* of the same length, our *score* function counts the number of elements on which the two strings agree. For example,"
   ]
  },
  {
   "cell_type": "code",
   "execution_count": 5,
   "metadata": {},
   "outputs": [
    {
     "data": {
      "text/plain": [
       "2"
      ]
     },
     "execution_count": 5,
     "metadata": {},
     "output_type": "execute_result"
    }
   ],
   "source": [
    "score('peach', 'pecan')"
   ]
  },
  {
   "cell_type": "markdown",
   "metadata": {},
   "source": [
    "The two strings, 'peach' and 'pecan', share only the first two letters and thence a score of 2. \n",
    "\n",
    "The next important component of our algorithm is the ability for each possible solution to randomly mutate. The following function, given a string *x*, randomly changes it. The probability of mutation is controlled by *mutation_probability* parameter. "
   ]
  },
  {
   "cell_type": "code",
   "execution_count": 6,
   "metadata": {},
   "outputs": [],
   "source": [
    "def mutate(x, mutation_probability, pool):\n",
    "    z = ''\n",
    "    for i in range(len(x)):\n",
    "        if np.random.random() < mutation_probability:\n",
    "            z += np.random.choice(pool)\n",
    "        else:\n",
    "            z += x[i]\n",
    "    return z"
   ]
  },
  {
   "cell_type": "markdown",
   "metadata": {},
   "source": [
    "Let us test our newly defined function by randomly mutating \"apple\"."
   ]
  },
  {
   "cell_type": "code",
   "execution_count": 7,
   "metadata": {},
   "outputs": [
    {
     "data": {
      "text/plain": [
       "'apall'"
      ]
     },
     "execution_count": 7,
     "metadata": {},
     "output_type": "execute_result"
    }
   ],
   "source": [
    "np.random.seed(3)\n",
    "mutate('apple', 0.5, list(string.ascii_lowercase))"
   ]
  },
  {
   "cell_type": "markdown",
   "metadata": {},
   "source": [
    "As we can observe, 2 out of 5 letters have been randomly changed, namely letter 'p' in 3rd position has been changed by letter 'a' and letter 'e' in 5th position has been replaced by letter 'l'. \n",
    "\n",
    "As we discussed previously, new generation of solutions is obtained by means of a crossover operation. This operation works by taking two parent solutions, blending them together and yielding as a result a new solution. For that purpose, we define *crossover* function. "
   ]
  },
  {
   "cell_type": "code",
   "execution_count": 8,
   "metadata": {},
   "outputs": [],
   "source": [
    "def crossover(x, y):\n",
    "    z = ''\n",
    "    for i in range(len(x)):\n",
    "        if np.random.random() < 0.5:\n",
    "            z += x[i]\n",
    "        else:\n",
    "            z += y[i]\n",
    "    return z"
   ]
  },
  {
   "cell_type": "markdown",
   "metadata": {},
   "source": [
    "As an example, consider the following example where we crossover the following two strings: \"kitchen\" and \"holiday\"."
   ]
  },
  {
   "cell_type": "code",
   "execution_count": 9,
   "metadata": {},
   "outputs": [
    {
     "data": {
      "text/plain": [
       "'hilihen'"
      ]
     },
     "execution_count": 9,
     "metadata": {},
     "output_type": "execute_result"
    }
   ],
   "source": [
    "np.random.seed(10)\n",
    "crossover('kitchen', 'holiday')"
   ]
  },
  {
   "cell_type": "markdown",
   "metadata": {},
   "source": [
    "The last function, which will incorporate all the functions we have previously defined, is called *new_generation*. As the name implies, this function will create a new generation of solutions given the current generation. We are going to provide the function in full and then explain some of the individual parts."
   ]
  },
  {
   "cell_type": "code",
   "execution_count": 10,
   "metadata": {},
   "outputs": [],
   "source": [
    "def new_generation(generation, target, mutation_probability, pool):\n",
    "    scores = [score(i, target) + 1 for i in generation]\n",
    "    new_generation = []\n",
    "    for i in range(len(generation) - 1):\n",
    "        parent1 = np.random.choice(generation, p=np.asarray(scores) / np.sum(scores))\n",
    "        parent2 = np.random.choice(generation, p=np.asarray(scores) / np.sum(scores))\n",
    "        new_generation.append(mutate(crossover(parent1, parent2), mutation_probability, pool))\n",
    "    best_performer = sorted(zip(scores, generation))[-1][-1]\n",
    "    new_generation.append(best_performer)\n",
    "    return (new_generation, best_performer)"
   ]
  },
  {
   "cell_type": "markdown",
   "metadata": {},
   "source": [
    "The first step is to evaluate the fitness of each individual solution in a generation as is done by line 2 of the above piece of code. This would later allow us to make use of the crossover operation where better performing solutions have a higher chance of being used. This is implemented on lines 5 and 6 where, for each new solution, we randomly draw two parents from the generation, apply crossover and mutation operations. Finally, note that, for each generation, we also identify the best performing solution. We do this so that any subsequent generation includes the fittest solution from the preceding generation. This way we are making sure that our population is never regressing and subsequent generations achieve at least the same score as the one preceding. \n",
    "\n",
    "Finally, let us implement the above piece of code and see how well this algorithm will do. We are going to let our population evolve through 1,000 generations or epochs with 100 solutions per generation. We allow for a 30% chance for mutation. The string of interest will be \"i love rl\"."
   ]
  },
  {
   "cell_type": "code",
   "execution_count": 11,
   "metadata": {},
   "outputs": [
    {
     "name": "stdout",
     "output_type": "stream",
     "text": [
      "Epoch  1 :  ydmhd  dl\n",
      "Epoch  100 :  y zobe rl\n",
      "Epoch  200 :  iglove rl\n",
      "Epoch  300 :  iglove rl\n",
      "Epoch  400 :  inlove rl\n",
      "Epoch  500 :  inlove rl\n",
      "Epoch  600 :  inlove rl\n",
      "Epoch  700 :  inlove rl\n",
      "Epoch  800 :  inlove rl\n",
      "Epoch  900 :  iylove rl\n",
      "Epoch  1000 :  iylove rl\n"
     ]
    }
   ],
   "source": [
    "np.random.seed(2)\n",
    "alphabet = list(' ' + string.ascii_lowercase)\n",
    "target_sentence = 'i love rl'\n",
    "generation_size = 100\n",
    "mutation_probability = 0.3\n",
    "number_epochs = 1000\n",
    "\n",
    "generation = [generate_string(len(target_sentence), alphabet) for i in range(generation_size)]\n",
    "\n",
    "for epoch in range(number_epochs):\n",
    "    generation, best_performer = new_generation(generation, target_sentence, mutation_probability, alphabet)\n",
    "    if (epoch + 1) % 100 == 0 or epoch==0:\n",
    "        print(\"Epoch \", epoch + 1, \": \", best_performer)"
   ]
  },
  {
   "cell_type": "markdown",
   "metadata": {},
   "source": [
    "We can see that the algorithm almost achieved the desired solution. The best performing string is \"iylove rl\" which is only a single letter different from the target sentence. \n",
    "\n",
    "There are numerous ways in which GAs can be utilized either in their own right or as a very useful complement to other machine learning techniques. We will be covering these uses in posts to follow. "
   ]
  },
  {
   "cell_type": "code",
   "execution_count": null,
   "metadata": {},
   "outputs": [],
   "source": []
  }
 ],
 "metadata": {
  "kernelspec": {
   "display_name": "Python 3",
   "language": "python",
   "name": "python3"
  },
  "language_info": {
   "codemirror_mode": {
    "name": "ipython",
    "version": 3
   },
   "file_extension": ".py",
   "mimetype": "text/x-python",
   "name": "python",
   "nbconvert_exporter": "python",
   "pygments_lexer": "ipython3",
   "version": "3.7.4"
  },
  "toc": {
   "base_numbering": 1,
   "nav_menu": {},
   "number_sections": true,
   "sideBar": true,
   "skip_h1_title": false,
   "title_cell": "Table of Contents",
   "title_sidebar": "Contents",
   "toc_cell": false,
   "toc_position": {},
   "toc_section_display": true,
   "toc_window_display": false
  }
 },
 "nbformat": 4,
 "nbformat_minor": 2
}
